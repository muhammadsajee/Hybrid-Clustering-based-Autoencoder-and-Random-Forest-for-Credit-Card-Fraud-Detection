{
 "cells": [
  {
   "cell_type": "code",
   "execution_count": 62,
   "id": "fd0b4552",
   "metadata": {},
   "outputs": [],
   "source": [
    "import pandas as pd\n",
    "import seaborn as sns\n",
    "import numpy as np\n",
    "import matplotlib.pyplot as plt\n",
    "from imblearn.over_sampling import SMOTE\n",
    "from sklearn.preprocessing import LabelEncoder\n",
    "from sklearn.cluster import KMeans\n",
    "from sklearn.ensemble import RandomForestClassifier\n",
    "from sklearn.preprocessing import StandardScaler,OrdinalEncoder\n",
    "from sklearn.cluster import AgglomerativeClustering\n",
    "from sklearn.cluster import DBSCAN\n",
    "from sklearn.mixture import GaussianMixture\n",
    "from sklearn.cluster import Birch\n",
    "from sklearn_extra.cluster import KMedoids\n",
    "from sklearn.metrics import silhouette_score\n",
    "from sklearn.model_selection import train_test_split\n",
    "import pickle,keras\n",
    "from scipy import stats\n",
    "import tensorflow as tf\n",
    "from pylab import rcParams\n",
    "from keras.models import Model, load_model\n",
    "from keras.layers import Input, Dense\n",
    "from keras.callbacks import ModelCheckpoint, TensorBoard\n",
    "from keras import regularizers\n",
    "from tensorflow.keras import Sequential\n",
    "from sklearn.metrics import roc_curve\n",
    "from sklearn.metrics import roc_auc_score\n",
    "from sklearn.metrics import precision_recall_curve,auc,roc_auc_score\n",
    "from sklearn.metrics import confusion_matrix,precision_score,recall_score,f1_score,accuracy_score,mean_squared_error,matthews_corrcoef\n",
    "from keras.layers import Dense, Dropout\n",
    "from keras.wrappers.scikit_learn import KerasClassifier\n",
    "from sklearn.model_selection import RandomizedSearchCV,GridSearchCV\n",
    "from matplotlib.lines import Line2D  \n",
    "import sklearn.metrics as metrics\n",
    "from sklearn.tree import DecisionTreeClassifier\n",
    "from sklearn.svm import SVC\n",
    "from sklearn.neighbors import KNeighborsClassifier"
   ]
  },
  {
   "cell_type": "code",
   "execution_count": 63,
   "id": "bc8ab895",
   "metadata": {},
   "outputs": [
    {
     "name": "stderr",
     "output_type": "stream",
     "text": [
      "C:\\Users\\king_\\AppData\\Local\\Temp\\ipykernel_24060\\3430002458.py:7: SettingWithCopyWarning: \n",
      "A value is trying to be set on a copy of a slice from a DataFrame\n",
      "\n",
      "See the caveats in the documentation: https://pandas.pydata.org/pandas-docs/stable/user_guide/indexing.html#returning-a-view-versus-a-copy\n",
      "  df.drop(del_columns,axis=1,inplace=True)\n"
     ]
    },
    {
     "data": {
      "text/plain": [
       "131"
      ]
     },
     "execution_count": 63,
     "metadata": {},
     "output_type": "execute_result"
    }
   ],
   "source": [
    "orignal_df=pd.read_csv('fraudTest.csv')\n",
    "df=orignal_df[230000:260000]\n",
    "\n",
    "del(df['Unnamed: 0'])\n",
    "\n",
    "del_columns=['first','last','trans_num','unix_time','merch_lat','merch_long']\n",
    "df.drop(del_columns,axis=1,inplace=True)\n",
    "\n",
    "df.is_fraud.sum()"
   ]
  },
  {
   "cell_type": "markdown",
   "id": "a2bc38c1",
   "metadata": {},
   "source": [
    "## Preprocessing"
   ]
  },
  {
   "cell_type": "code",
   "execution_count": 64,
   "id": "5f0b7792",
   "metadata": {},
   "outputs": [],
   "source": [
    "## The Following code replaces space with colon of the columns in the data frame\n",
    "\n",
    "new_col=[]\n",
    "for col in df.columns:\n",
    "   x=col.replace(' ','_')\n",
    "   new_col.append(x)\n",
    "df.columns=new_col    "
   ]
  },
  {
   "cell_type": "code",
   "execution_count": 65,
   "id": "c553e837",
   "metadata": {},
   "outputs": [
    {
     "name": "stderr",
     "output_type": "stream",
     "text": [
      "C:\\Users\\king_\\AppData\\Local\\Temp\\ipykernel_24060\\1334105606.py:1: SettingWithCopyWarning: \n",
      "A value is trying to be set on a copy of a slice from a DataFrame.\n",
      "Try using .loc[row_indexer,col_indexer] = value instead\n",
      "\n",
      "See the caveats in the documentation: https://pandas.pydata.org/pandas-docs/stable/user_guide/indexing.html#returning-a-view-versus-a-copy\n",
      "  df['age'] = pd.DatetimeIndex(df['dob'])\n",
      "C:\\Users\\king_\\AppData\\Local\\Temp\\ipykernel_24060\\1334105606.py:2: SettingWithCopyWarning: \n",
      "A value is trying to be set on a copy of a slice from a DataFrame.\n",
      "Try using .loc[row_indexer,col_indexer] = value instead\n",
      "\n",
      "See the caveats in the documentation: https://pandas.pydata.org/pandas-docs/stable/user_guide/indexing.html#returning-a-view-versus-a-copy\n",
      "  df['age']=2022-df['age'].dt.year\n",
      "C:\\Users\\king_\\AppData\\Local\\Temp\\ipykernel_24060\\1334105606.py:3: SettingWithCopyWarning: \n",
      "A value is trying to be set on a copy of a slice from a DataFrame\n",
      "\n",
      "See the caveats in the documentation: https://pandas.pydata.org/pandas-docs/stable/user_guide/indexing.html#returning-a-view-versus-a-copy\n",
      "  df.drop('dob',axis=1,inplace=True)\n"
     ]
    }
   ],
   "source": [
    "df['age'] = pd.DatetimeIndex(df['dob'])\n",
    "df['age']=2022-df['age'].dt.year\n",
    "df.drop('dob',axis=1,inplace=True)"
   ]
  },
  {
   "cell_type": "code",
   "execution_count": 66,
   "id": "4cf4f23d",
   "metadata": {},
   "outputs": [],
   "source": [
    "# The following code removes the digits from street names\n",
    "\n",
    "streets=df.street.unique()\n",
    "new_street=[]\n",
    "for street in streets:\n",
    "    new_street.append(street.split(' ')[1]+'_'+street.split(' ')[2])\n",
    "for s,new_s in zip(streets,new_street):\n",
    "    df.street.replace(s,new_s,inplace=True)    "
   ]
  },
  {
   "cell_type": "code",
   "execution_count": 67,
   "id": "240b7776",
   "metadata": {},
   "outputs": [],
   "source": [
    "## The following code removes string FRAUD from the names of the merchants\n",
    "\n",
    "merchants=df.merchant.unique()\n",
    "new_merchants=[]\n",
    "for mer in merchants:\n",
    "    m=mer.split('_')[1]\n",
    "    new_merchants.append(m)\n",
    "for mer,new_mer in zip(merchants,new_merchants):\n",
    "    df.merchant.replace(mer,new_mer,inplace=True)"
   ]
  },
  {
   "cell_type": "code",
   "execution_count": 68,
   "id": "73134c27",
   "metadata": {},
   "outputs": [
    {
     "name": "stderr",
     "output_type": "stream",
     "text": [
      "C:\\Users\\king_\\AppData\\Local\\Temp\\ipykernel_24060\\1717594047.py:1: SettingWithCopyWarning: \n",
      "A value is trying to be set on a copy of a slice from a DataFrame.\n",
      "Try using .loc[row_indexer,col_indexer] = value instead\n",
      "\n",
      "See the caveats in the documentation: https://pandas.pydata.org/pandas-docs/stable/user_guide/indexing.html#returning-a-view-versus-a-copy\n",
      "  df['trans_date_trans_time']=pd.to_datetime(df['trans_date_trans_time'])\n",
      "C:\\Users\\king_\\AppData\\Local\\Temp\\ipykernel_24060\\1717594047.py:2: SettingWithCopyWarning: \n",
      "A value is trying to be set on a copy of a slice from a DataFrame.\n",
      "Try using .loc[row_indexer,col_indexer] = value instead\n",
      "\n",
      "See the caveats in the documentation: https://pandas.pydata.org/pandas-docs/stable/user_guide/indexing.html#returning-a-view-versus-a-copy\n",
      "  df['Time_second']=np.nan\n",
      "C:\\Users\\king_\\AppData\\Local\\Temp\\ipykernel_24060\\1717594047.py:3: SettingWithCopyWarning: \n",
      "A value is trying to be set on a copy of a slice from a DataFrame.\n",
      "Try using .loc[row_indexer,col_indexer] = value instead\n",
      "\n",
      "See the caveats in the documentation: https://pandas.pydata.org/pandas-docs/stable/user_guide/indexing.html#returning-a-view-versus-a-copy\n",
      "  df['Time_second']=(df['trans_date_trans_time'].dt.second)\n"
     ]
    }
   ],
   "source": [
    "df['trans_date_trans_time']=pd.to_datetime(df['trans_date_trans_time'])\n",
    "df['Time_second']=np.nan\n",
    "df['Time_second']=(df['trans_date_trans_time'].dt.second)"
   ]
  },
  {
   "cell_type": "markdown",
   "id": "65a2d15c",
   "metadata": {},
   "source": [
    "## Exploratory Data Analysis"
   ]
  },
  {
   "cell_type": "code",
   "execution_count": 69,
   "id": "68c55f63",
   "metadata": {},
   "outputs": [
    {
     "name": "stderr",
     "output_type": "stream",
     "text": [
      "C:\\Users\\king_\\anaconda3\\lib\\site-packages\\seaborn\\_decorators.py:36: FutureWarning: Pass the following variable as a keyword arg: x. From version 0.12, the only valid positional argument will be `data`, and passing other arguments without an explicit keyword will result in an error or misinterpretation.\n",
      "  warnings.warn(\n"
     ]
    },
    {
     "data": {
      "image/png": "[encoded data removed]",
      "text/plain": [
       "<Figure size 432x288 with 1 Axes>"
      ]
     },
     "metadata": {
      "needs_background": "light"
     },
     "output_type": "display_data"
    }
   ],
   "source": [
    "fraud_class=df.is_fraud.replace([0,1],['Normal','Fraud'])\n",
    "sns.countplot(fraud_class)\n",
    "plt.xlabel('Class')\n",
    "plt.ylabel('Number of Transaction')\n",
    "plt.show()"
   ]
  },
  {
   "cell_type": "code",
   "execution_count": 70,
   "id": "39ffe65e",
   "metadata": {},
   "outputs": [
    {
     "data": {
      "image/png": "[encoded data removed]",
      "text/plain": [
       "<Figure size 720x504 with 2 Axes>"
      ]
     },
     "metadata": {
      "needs_background": "light"
     },
     "output_type": "display_data"
    }
   ],
   "source": [
    "f, (ax1, ax2) = plt.subplots(2, 1,figsize=(10,7),sharex=True)\n",
    "f.suptitle('Amount per transaction by class',size=25)\n",
    "\n",
    "bins = 50\n",
    "\n",
    "ax1.hist(df[df.is_fraud==1].amt, bins = bins)\n",
    "ax1.set_title('Fraud')\n",
    "\n",
    "ax2.hist(df[df.is_fraud==0].amt, bins = bins)\n",
    "ax2.set_title('Normal')\n",
    "\n",
    "plt.xlabel('Amount ($)')\n",
    "plt.ylabel('Number of Transactions')\n",
    "plt.xlim((0, 20000))\n",
    "plt.yscale('log')\n",
    "plt.show();"
   ]
  },
  {
   "cell_type": "code",
   "execution_count": 71,
   "id": "f650781f",
   "metadata": {},
   "outputs": [
    {
     "data": {
      "image/png": "[encoded data removed]",
      "text/plain": [
       "<Figure size 720x504 with 2 Axes>"
      ]
     },
     "metadata": {
      "needs_background": "light"
     },
     "output_type": "display_data"
    }
   ],
   "source": [
    "f, (ax1, ax2) = plt.subplots(2, 1,figsize=(10,7) ,sharex=True)\n",
    "f.suptitle('Time of transaction vs Amount by class')\n",
    "\n",
    "ax1.scatter(list(df[df.is_fraud==1].trans_date_trans_time), list(df[df.is_fraud==1].amt))\n",
    "ax1.set_title('Fraud')\n",
    "\n",
    "ax2.scatter(list(df[df.is_fraud==0].trans_date_trans_time), list(df[df.is_fraud==0].amt))\n",
    "ax2.set_title('Normal')\n",
    "\n",
    "plt.xlabel('Time (in seconds)')\n",
    "plt.ylabel('Amount')\n",
    "plt.yticks([])\n",
    "plt.show()\n",
    "\n",
    "del(df['trans_date_trans_time'])"
   ]
  },
  {
   "cell_type": "markdown",
   "id": "2f4ea2dc",
   "metadata": {},
   "source": [
    "## Clustering"
   ]
  },
  {
   "cell_type": "code",
   "execution_count": 72,
   "id": "2c323109",
   "metadata": {},
   "outputs": [
    {
     "name": "stderr",
     "output_type": "stream",
     "text": [
      "C:\\Users\\king_\\AppData\\Local\\Temp\\ipykernel_24060\\2605487496.py:8: SettingWithCopyWarning: \n",
      "A value is trying to be set on a copy of a slice from a DataFrame.\n",
      "Try using .loc[row_indexer,col_indexer] = value instead\n",
      "\n",
      "See the caveats in the documentation: https://pandas.pydata.org/pandas-docs/stable/user_guide/indexing.html#returning-a-view-versus-a-copy\n",
      "  df[feature] = le.fit_transform(df[feature])\n"
     ]
    }
   ],
   "source": [
    "## convert string categorical variables into numerical variables\n",
    "\n",
    "def Encoder(df):\n",
    "          columnsToEncode = list(df.select_dtypes(include=['category','object']))\n",
    "          le = LabelEncoder()\n",
    "          for feature in columnsToEncode:\n",
    "              try:\n",
    "                  df[feature] = le.fit_transform(df[feature])\n",
    "              except:\n",
    "                  print('Error encoding '+feature)\n",
    "          return df\n",
    "df=Encoder(df)    "
   ]
  },
  {
   "cell_type": "code",
   "execution_count": 73,
   "id": "42e84f93",
   "metadata": {},
   "outputs": [
    {
     "data": {
      "text/plain": [
       "[<matplotlib.lines.Line2D at 0x15e9ba66820>]"
      ]
     },
     "execution_count": 73,
     "metadata": {},
     "output_type": "execute_result"
    },
    {
     "data": {
      "image/png": "[encoded data removed]",
      "text/plain": [
       "<Figure size 432x288 with 1 Axes>"
      ]
     },
     "metadata": {
      "needs_background": "light"
     },
     "output_type": "display_data"
    }
   ],
   "source": [
    "## Selecting two feature to perform clustering\n",
    "\n",
    "cluster_Feature=df[['amt','Time_second']]\n",
    "\n",
    "# Determing the Number of clusters using elbow method\n",
    "\n",
    "score_1 = []\n",
    "range_values = range(1, 10)\n",
    "\n",
    "for i in range_values:\n",
    "    kmeans = KMeans(n_clusters = i)\n",
    "    kmeans.fit(cluster_Feature)\n",
    "    score_1.append(kmeans.inertia_)\n",
    "    \n",
    "plt.plot(range_values,score_1)    "
   ]
  },
  {
   "cell_type": "code",
   "execution_count": 74,
   "id": "c9182066",
   "metadata": {},
   "outputs": [],
   "source": [
    "## Clustering with KMeans\n",
    "\n",
    "kmeans = KMeans(n_clusters=3, random_state=42).fit(cluster_Feature)\n",
    "labels_kmeans = kmeans.labels_\n",
    "\n",
    "# plt.figure(figsize=(8,5))\n",
    "# sns.scatterplot(data=df,y='amt',x='Time_second',hue=labels_kmeans,palette='viridis')\n",
    "# plt.show()"
   ]
  },
  {
   "cell_type": "code",
   "execution_count": 75,
   "id": "40d764b1",
   "metadata": {},
   "outputs": [],
   "source": [
    "# ## Clustering with KMediod\n",
    "\n",
    "# kmediods = KMedoids(n_clusters=3, random_state=42).fit(cluster_Feature)\n",
    "# labels_kmediods = kmediods.labels_\n",
    "\n",
    "# # plt.figure(figsize=(8,5))\n",
    "# # sns.scatterplot(data=df,y='amt',x='Time_second',hue=labels_kmediods,palette='viridis')\n",
    "# # plt.show()"
   ]
  },
  {
   "cell_type": "code",
   "execution_count": 76,
   "id": "1530720c",
   "metadata": {},
   "outputs": [],
   "source": [
    "# ## DBSCAN Clustering\n",
    "\n",
    "# dbscan=DBSCAN(eps=0.20, min_samples=3).fit(cluster_Feature)\n",
    "# dbscan_label=dbscan.labels_\n",
    "\n",
    "# # sns.scatterplot(data=df,y='amt',x='Time_second',hue=dbscan_label,palette='viridis')"
   ]
  },
  {
   "cell_type": "code",
   "execution_count": 77,
   "id": "5fbb04de",
   "metadata": {},
   "outputs": [],
   "source": [
    "# ## GNN Clustering\n",
    "\n",
    "# gnn = GaussianMixture(n_components=3)\n",
    "# gnn_labels=gnn.fit(cluster_Feature).predict(cluster_Feature)\n",
    "# # sns.scatterplot(data=df,y='amt',x='Time_second',hue=gnn_labels,palette='viridis')"
   ]
  },
  {
   "cell_type": "code",
   "execution_count": 78,
   "id": "c01ef8e1",
   "metadata": {},
   "outputs": [],
   "source": [
    "# kmeans_score = silhouette_score(cluster_Feature, labels_kmeans, metric='euclidean')\n",
    "# dbscan_score = silhouette_score(cluster_Feature, dbscan_label, metric='euclidean')\n",
    "# gmm_score = silhouette_score(cluster_Feature, gnn_labels, metric='euclidean')\n",
    "# kmediods_score = silhouette_score(cluster_Feature, labels_kmediods, metric='euclidean')\n",
    "# # print('Silhouetter Score: %.3f' % score)"
   ]
  },
  {
   "cell_type": "code",
   "execution_count": 79,
   "id": "5115a630",
   "metadata": {},
   "outputs": [],
   "source": [
    "# scores={'KMEANS':kmeans_score,'DBSCAN':dbscan_score,'GMM':gmm_score,'KMediod':kmediods_score}\n",
    "# pd.DataFrame(scores,index=['silhouette_score'])"
   ]
  },
  {
   "cell_type": "code",
   "execution_count": 80,
   "id": "8825d289",
   "metadata": {},
   "outputs": [],
   "source": [
    "# plt.figure(figsize=(15,12))\n",
    "# plt.subplot(2,2,1)\n",
    "# sns.scatterplot(data=df,y='amt',x='Time_second',hue=labels_kmeans,palette='viridis')\n",
    "# plt.title(f'KMeans Silhouette_Score:{np.round(kmeans_score,2)}')\n",
    "# plt.subplot(2,2,2)\n",
    "# sns.scatterplot(data=df,y='amt',x='Time_second',hue=labels_kmediods,palette='viridis')\n",
    "# plt.title(f'KMedios Silhouette_Score:{np.round(kmediods_score,2)}')\n",
    "# plt.subplot(2,2,3)\n",
    "# sns.scatterplot(data=df,y='amt',x='Time_second',hue=dbscan_label,palette='viridis')\n",
    "# plt.title(f'DBSCAN Silhouette_Score:{np.round(dbscan_score,2)}')\n",
    "# plt.subplot(2,2,4)\n",
    "# sns.scatterplot(data=df,y='amt',x='Time_second',hue=gnn_labels,palette='viridis')\n",
    "# plt.title(f'GMM Silhouette_Score:{np.round(gmm_score,2)}')\n",
    "# plt.show()"
   ]
  },
  {
   "cell_type": "code",
   "execution_count": 81,
   "id": "df02a844",
   "metadata": {},
   "outputs": [
    {
     "name": "stderr",
     "output_type": "stream",
     "text": [
      "C:\\Users\\king_\\AppData\\Local\\Temp\\ipykernel_24060\\3689800827.py:1: SettingWithCopyWarning: \n",
      "A value is trying to be set on a copy of a slice from a DataFrame.\n",
      "Try using .loc[row_indexer,col_indexer] = value instead\n",
      "\n",
      "See the caveats in the documentation: https://pandas.pydata.org/pandas-docs/stable/user_guide/indexing.html#returning-a-view-versus-a-copy\n",
      "  df['Cluster_by_amount']=labels_kmeans\n",
      "C:\\Users\\king_\\AppData\\Local\\Temp\\ipykernel_24060\\3689800827.py:2: SettingWithCopyWarning: \n",
      "A value is trying to be set on a copy of a slice from a DataFrame\n",
      "\n",
      "See the caveats in the documentation: https://pandas.pydata.org/pandas-docs/stable/user_guide/indexing.html#returning-a-view-versus-a-copy\n",
      "  df.drop(['amt'],axis=1,inplace=True)\n"
     ]
    }
   ],
   "source": [
    "df['Cluster_by_amount']=labels_kmeans\n",
    "df.drop(['amt'],axis=1,inplace=True)"
   ]
  },
  {
   "cell_type": "markdown",
   "id": "7a8a082e",
   "metadata": {},
   "source": [
    "## Feature Extraction"
   ]
  },
  {
   "cell_type": "code",
   "execution_count": 82,
   "id": "d1209c86",
   "metadata": {},
   "outputs": [],
   "source": [
    "# from sklearn.ensemble import ExtraTreesClassifier\n",
    "\n",
    "X=df.drop(['is_fraud','Time_second'],axis=1)\n",
    "y=df.is_fraud\n",
    "\n",
    "\n",
    "# # plt.figure(figsize=(15,10))\n",
    "# # model = ExtraTreesClassifier()\n",
    "# # model.fit(X,y)\n",
    "# # # print(model.feature_importances_) #use inbuilt class feature_importances of tree based classifiers\n",
    "# # #plot graph of feature importances for better visualization\n",
    "# # feat_importances = pd.Series(model.feature_importances_, index=X.columns)\n",
    "# # best_features=[ind for ind in (pd.DataFrame(feat_importances.nlargest())).index]\n",
    "# # feat_importances.nlargest(20).plot(kind='barh')\n",
    "# # plt.show()\n",
    "\n",
    "# import statsmodels.api as sm\n",
    "# from sklearn.model_selection import train_test_split\n",
    "# # If p-value < 0.05 -->Significant\n",
    "# # If p-value > 0.05 -->Not Significant\n",
    "# X_train,X_test, Y_train, Y_test = train_test_split(X, y, test_size = .2, random_state = 10)\n",
    "# x_incl_cons = sm.add_constant(X_train)\n",
    "# model = sm.OLS(Y_train, x_incl_cons)  #ordinary least square\n",
    "# results = model.fit()  #regresssion results\n",
    "# # results.params\n",
    "# # results.pvalues\n",
    "# corr=pd.DataFrame({'coef': results.params , 'pvalue': round(results.pvalues,3)})\n",
    "# corr=corr[corr.pvalue<=0.05].iloc[1:]\n",
    "# corr\n",
    "\n",
    "# df=df[corr.index]\n",
    "# df['is_fraud']=y"
   ]
  },
  {
   "cell_type": "markdown",
   "id": "7ce80329",
   "metadata": {},
   "source": [
    "## AutoEncoder"
   ]
  },
  {
   "cell_type": "code",
   "execution_count": 83,
   "id": "066c1db7",
   "metadata": {},
   "outputs": [],
   "source": [
    "X_train, X_test = train_test_split(df, test_size=0.2, random_state=42)\n",
    "X_train = X_train[X_train.is_fraud == 0]\n",
    "X_train = X_train.drop(['is_fraud'], axis=1)\n",
    "y_test = X_test['is_fraud']\n",
    "X_test = X_test.drop(['is_fraud'], axis=1)\n",
    "\n",
    "scaler = StandardScaler()\n",
    "X_train=scaler.fit(X_train).transform(X_train)\n",
    "X_test=scaler.fit(X_test).transform(X_test)"
   ]
  },
  {
   "cell_type": "code",
   "execution_count": 84,
   "id": "f5191f61",
   "metadata": {},
   "outputs": [],
   "source": [
    "# # Neural Network Using RandomSearchCV\n",
    "\n",
    "# from sklearn.model_selection import RandomizedSearchCV\n",
    "\n",
    "\n",
    "# # Function to Create model\n",
    "# def NN_model(neurons1= 1, neurons2= 1, optimizer='Adam',activation1='relu',activation2='tanh',activation3='tanh',learning_rate=0.1):\n",
    "#    input_layer = Input(shape=(input_dim,))\n",
    "#    encoder = Sequential(name='encoder')\n",
    "#    encoder = Dense(neurons1, activation=activation1, \n",
    "#                 activity_regularizer=regularizers.l1(learning_rate))(input_layer)\n",
    "#    encoder = Dense(neurons2, activation=activation2)(encoder)\n",
    "#    encoder = Dense(neurons2, activation=activation3)(encoder) \n",
    "   \n",
    "#    decoder = Sequential(name='decoder') \n",
    "#    decoder = Dense(int(neurons2), activation=activation1)(encoder)\n",
    "#    encoder = Dense(neurons2, activation=activation2)(encoder) \n",
    "#    decoder = Dense(neurons2, activation=activation3)(encoder)\n",
    "\n",
    "#    autoencoder = Model(inputs=input_layer, outputs=decoder)\n",
    "   \n",
    "#    autoencoder.compile(optimizer=optimizer, loss='mean_squared_error',metrics=['accuracy'])\n",
    "\n",
    "#    return autoencoder\n",
    "\n",
    "# # Create model\n",
    "# model = KerasClassifier(build_fn=NN_model,epochs=10,verbose=0)\n",
    "\n",
    "# # Define Grid search parameters\n",
    "# batch_size = [64]\n",
    "# neurons1 = [120]\n",
    "# neurons2 = [60]\n",
    "# learning_rate = [0.00005]\n",
    "# activation1 = ['relu', 'tanh','softmax','sigmoid']\n",
    "# activation2 = ['relu', 'tanh','softmax','sigmoid']\n",
    "# activation3 = ['relu', 'tanh','softmax','sigmoid']\n",
    "# optimizer = ['Adam']\n",
    "\n",
    "\n",
    "# param_grid = dict(neurons1=neurons1, neurons2=neurons2, \n",
    "#                   learning_rate=learning_rate,\n",
    "#                   activation1=activation1,activation2=activation2,activation3=activation3,\n",
    "#                  optimizer=optimizer,\n",
    "#                  batch_size = batch_size)\n",
    "\n",
    "# grid = GridSearchCV(estimator=model, param_grid=param_grid,n_jobs=1, cv=5)\n",
    "\n",
    "# grid_result = grid.fit(X_test,y_test)\n",
    "\n",
    "# # summarize results\n",
    "# print(\"Best: %f using %s\" % (grid_result.best_score_, grid_result.best_params_))\n",
    "# means = grid_result.cv_results_['mean_test_score']\n",
    "# stds = grid_result.cv_results_['std_test_score']\n",
    "# params = grid_result.cv_results_['params']\n",
    "# for mean, stdev, param in zip(means, stds, params):\n",
    "#     print(\"%f (%f) with: %r\" % (mean, stdev, param))    "
   ]
  },
  {
   "cell_type": "code",
   "execution_count": 85,
   "id": "8106bcb0",
   "metadata": {},
   "outputs": [],
   "source": [
    "neurons1=120\n",
    "neurons2=30\n",
    "learning_rate=0.00005\n",
    "activation1='relu'\n",
    "activation2='tanh'\n",
    "\n",
    "input_dim = X_train.shape[1]\n",
    "\n",
    "input_layer = Input(shape=(input_dim,))\n",
    "encoder = Sequential(name='encoder')\n",
    "encoder = Dense(neurons1, activation=activation1, \n",
    "                activity_regularizer=regularizers.l1(0.00005))(input_layer)\n",
    "encoder = Dense(neurons2, activation=activation2)(encoder)\n",
    "\n",
    "decoder = Sequential(name='decoder')\n",
    "decoder = Dense(neurons1, activation=activation1)(encoder)\n",
    "decoder = Dense(neurons2, activation=activation2)(encoder)\n",
    "decoder = Dense(input_dim, activation=activation2)(decoder)\n",
    "\n",
    "autoencoder = Model(inputs=input_layer, outputs=decoder)"
   ]
  },
  {
   "cell_type": "code",
   "execution_count": 86,
   "id": "0cf48798",
   "metadata": {
    "scrolled": false
   },
   "outputs": [
    {
     "name": "stdout",
     "output_type": "stream",
     "text": [
      "Epoch 1/10\n",
      "374/374 [==============================] - 3s 5ms/step - loss: 0.3430 - accuracy: 0.5954 - val_loss: 0.2332 - val_accuracy: 0.7128\n",
      "Epoch 2/10\n",
      "374/374 [==============================] - 2s 5ms/step - loss: 0.2272 - accuracy: 0.7102 - val_loss: 0.2190 - val_accuracy: 0.7168\n",
      "Epoch 3/10\n",
      "374/374 [==============================] - 1s 3ms/step - loss: 0.2180 - accuracy: 0.7002 - val_loss: 0.2130 - val_accuracy: 0.7012\n",
      "Epoch 4/10\n",
      "374/374 [==============================] - 1s 4ms/step - loss: 0.2138 - accuracy: 0.6886 - val_loss: 0.2100 - val_accuracy: 0.6853\n",
      "Epoch 5/10\n",
      "374/374 [==============================] - 1s 4ms/step - loss: 0.2114 - accuracy: 0.6748 - val_loss: 0.2081 - val_accuracy: 0.6682\n",
      "Epoch 6/10\n",
      "374/374 [==============================] - 1s 4ms/step - loss: 0.2097 - accuracy: 0.6607 - val_loss: 0.2066 - val_accuracy: 0.6647\n",
      "Epoch 7/10\n",
      "374/374 [==============================] - 1s 4ms/step - loss: 0.2085 - accuracy: 0.6498 - val_loss: 0.2054 - val_accuracy: 0.6550\n",
      "Epoch 8/10\n",
      "374/374 [==============================] - 1s 4ms/step - loss: 0.2076 - accuracy: 0.6431 - val_loss: 0.2047 - val_accuracy: 0.6498\n",
      "Epoch 9/10\n",
      "374/374 [==============================] - 1s 4ms/step - loss: 0.2067 - accuracy: 0.6356 - val_loss: 0.2040 - val_accuracy: 0.6385\n",
      "Epoch 10/10\n",
      "374/374 [==============================] - 1s 4ms/step - loss: 0.2058 - accuracy: 0.6358 - val_loss: 0.2031 - val_accuracy: 0.6463\n"
     ]
    }
   ],
   "source": [
    "nb_epoch = 10\n",
    "batch_size = 64\n",
    "autoencoder.compile(optimizer='Adam', \n",
    "                    loss='mean_squared_error', \n",
    "                    metrics=['accuracy'])\n",
    "checkpointer = ModelCheckpoint(filepath=\"model.h5\",\n",
    "                               verbose=0,\n",
    "                               save_best_only=True)\n",
    "tensorboard = TensorBoard(log_dir='./logs',\n",
    "                          histogram_freq=0,\n",
    "                          write_graph=True,\n",
    "                          write_images=True)\n",
    "history = autoencoder.fit(X_train, X_train,\n",
    "                    epochs=nb_epoch,\n",
    "                    batch_size=batch_size,\n",
    "                    shuffle=True,\n",
    "                    validation_data=(X_test, X_test),\n",
    "                    verbose=1,\n",
    "                    callbacks=[checkpointer, tensorboard]).history"
   ]
  },
  {
   "cell_type": "code",
   "execution_count": 87,
   "id": "679a7214",
   "metadata": {},
   "outputs": [
    {
     "data": {
      "image/png": "[encoded data removed]",
      "text/plain": [
       "<Figure size 720x360 with 1 Axes>"
      ]
     },
     "metadata": {
      "needs_background": "light"
     },
     "output_type": "display_data"
    }
   ],
   "source": [
    "autoencoder = load_model('model.h5')\n",
    "\n",
    "plt.figure(figsize = (10,5))\n",
    "plt.plot(history['loss'], label = 'Training Loss')\n",
    "plt.plot(history['val_loss'], label = 'CV Loss')\n",
    "plt.title(\"Model Loss\")\n",
    "plt.xlabel('Epochs')\n",
    "plt.ylabel('Loss')\n",
    "plt.grid()\n",
    "plt.legend()\n",
    "plt.show()"
   ]
  },
  {
   "cell_type": "code",
   "execution_count": 88,
   "id": "474ca7ea",
   "metadata": {},
   "outputs": [
    {
     "name": "stdout",
     "output_type": "stream",
     "text": [
      "188/188 [==============================] - 0s 2ms/step\n"
     ]
    },
    {
     "data": {
      "text/html": [
       "<div>\n",
       "<style scoped>\n",
       "    .dataframe tbody tr th:only-of-type {\n",
       "        vertical-align: middle;\n",
       "    }\n",
       "\n",
       "    .dataframe tbody tr th {\n",
       "        vertical-align: top;\n",
       "    }\n",
       "\n",
       "    .dataframe thead tr th {\n",
       "        text-align: left;\n",
       "    }\n",
       "\n",
       "    .dataframe thead tr:last-of-type th {\n",
       "        text-align: right;\n",
       "    }\n",
       "</style>\n",
       "<table border=\"1\" class=\"dataframe\">\n",
       "  <thead>\n",
       "    <tr>\n",
       "      <th></th>\n",
       "      <th colspan=\"8\" halign=\"left\">reconstruction_error</th>\n",
       "      <th colspan=\"8\" halign=\"left\">Index</th>\n",
       "    </tr>\n",
       "    <tr>\n",
       "      <th></th>\n",
       "      <th>count</th>\n",
       "      <th>mean</th>\n",
       "      <th>std</th>\n",
       "      <th>min</th>\n",
       "      <th>25%</th>\n",
       "      <th>50%</th>\n",
       "      <th>75%</th>\n",
       "      <th>max</th>\n",
       "      <th>count</th>\n",
       "      <th>mean</th>\n",
       "      <th>std</th>\n",
       "      <th>min</th>\n",
       "      <th>25%</th>\n",
       "      <th>50%</th>\n",
       "      <th>75%</th>\n",
       "      <th>max</th>\n",
       "    </tr>\n",
       "    <tr>\n",
       "      <th>Anomaly</th>\n",
       "      <th></th>\n",
       "      <th></th>\n",
       "      <th></th>\n",
       "      <th></th>\n",
       "      <th></th>\n",
       "      <th></th>\n",
       "      <th></th>\n",
       "      <th></th>\n",
       "      <th></th>\n",
       "      <th></th>\n",
       "      <th></th>\n",
       "      <th></th>\n",
       "      <th></th>\n",
       "      <th></th>\n",
       "      <th></th>\n",
       "      <th></th>\n",
       "    </tr>\n",
       "  </thead>\n",
       "  <tbody>\n",
       "    <tr>\n",
       "      <th>0</th>\n",
       "      <td>5980.0</td>\n",
       "      <td>0.192767</td>\n",
       "      <td>0.529697</td>\n",
       "      <td>0.002676</td>\n",
       "      <td>0.040697</td>\n",
       "      <td>0.067369</td>\n",
       "      <td>0.141502</td>\n",
       "      <td>7.852597</td>\n",
       "      <td>5980.0</td>\n",
       "      <td>3001.697993</td>\n",
       "      <td>1730.994221</td>\n",
       "      <td>0.0</td>\n",
       "      <td>1504.75</td>\n",
       "      <td>3003.5</td>\n",
       "      <td>4500.25</td>\n",
       "      <td>5999.0</td>\n",
       "    </tr>\n",
       "    <tr>\n",
       "      <th>1</th>\n",
       "      <td>20.0</td>\n",
       "      <td>3.072480</td>\n",
       "      <td>1.564258</td>\n",
       "      <td>0.013904</td>\n",
       "      <td>3.785414</td>\n",
       "      <td>3.820704</td>\n",
       "      <td>3.851490</td>\n",
       "      <td>3.922210</td>\n",
       "      <td>20.0</td>\n",
       "      <td>2342.300000</td>\n",
       "      <td>2002.755683</td>\n",
       "      <td>94.0</td>\n",
       "      <td>721.50</td>\n",
       "      <td>1661.5</td>\n",
       "      <td>4224.25</td>\n",
       "      <td>5680.0</td>\n",
       "    </tr>\n",
       "  </tbody>\n",
       "</table>\n",
       "</div>"
      ],
      "text/plain": [
       "        reconstruction_error                                          \\\n",
       "                       count      mean       std       min       25%   \n",
       "Anomaly                                                                \n",
       "0                     5980.0  0.192767  0.529697  0.002676  0.040697   \n",
       "1                       20.0  3.072480  1.564258  0.013904  3.785414   \n",
       "\n",
       "                                        Index                                  \\\n",
       "              50%       75%       max   count         mean          std   min   \n",
       "Anomaly                                                                         \n",
       "0        0.067369  0.141502  7.852597  5980.0  3001.697993  1730.994221   0.0   \n",
       "1        3.820704  3.851490  3.922210    20.0  2342.300000  2002.755683  94.0   \n",
       "\n",
       "                                           \n",
       "             25%     50%      75%     max  \n",
       "Anomaly                                    \n",
       "0        1504.75  3003.5  4500.25  5999.0  \n",
       "1         721.50  1661.5  4224.25  5680.0  "
      ]
     },
     "execution_count": 88,
     "metadata": {},
     "output_type": "execute_result"
    }
   ],
   "source": [
    "predictions = autoencoder.predict(X_test)\n",
    "\n",
    "mse = np.mean(np.power(X_test - predictions, 2), axis=1)\n",
    "error_df = pd.DataFrame({'reconstruction_error': mse, 'Anomaly':y_test})\n",
    "error_df['Index']=[i for i in range(len(error_df))]\n",
    "\n",
    "error_df.groupby(['Anomaly']).describe()"
   ]
  },
  {
   "cell_type": "code",
   "execution_count": 89,
   "id": "27cd9e63",
   "metadata": {},
   "outputs": [
    {
     "name": "stderr",
     "output_type": "stream",
     "text": [
      "C:\\Users\\king_\\anaconda3\\lib\\site-packages\\seaborn\\distributions.py:2619: FutureWarning: `distplot` is a deprecated function and will be removed in a future version. Please adapt your code to use either `displot` (a figure-level function with similar flexibility) or `histplot` (an axes-level function for histograms).\n",
      "  warnings.warn(msg, FutureWarning)\n",
      "C:\\Users\\king_\\anaconda3\\lib\\site-packages\\seaborn\\distributions.py:2619: FutureWarning: `distplot` is a deprecated function and will be removed in a future version. Please adapt your code to use either `displot` (a figure-level function with similar flexibility) or `histplot` (an axes-level function for histograms).\n",
      "  warnings.warn(msg, FutureWarning)\n"
     ]
    },
    {
     "data": {
      "image/png": "[encoded data removed]",
      "text/plain": [
       "<Figure size 720x360 with 1 Axes>"
      ]
     },
     "metadata": {
      "needs_background": "light"
     },
     "output_type": "display_data"
    }
   ],
   "source": [
    "plt.figure(figsize = (10,5))\n",
    "sns.distplot(error_df[error_df['Anomaly']==0]['reconstruction_error'], bins = 5, label = 'Normal')\n",
    "sns.distplot(error_df[error_df['Anomaly']==1]['reconstruction_error'], bins=5, label = 'Anamoly')\n",
    "plt.legend()\n",
    "plt.show()"
   ]
  },
  {
   "cell_type": "code",
   "execution_count": 90,
   "id": "e01085eb",
   "metadata": {},
   "outputs": [
    {
     "data": {
      "image/png": "[encoded data removed]",
      "text/plain": [
       "<Figure size 1440x576 with 1 Axes>"
      ]
     },
     "metadata": {
      "needs_background": "light"
     },
     "output_type": "display_data"
    }
   ],
   "source": [
    "threshold = np.percentile(mse, 95)\n",
    "\n",
    "groups = error_df.groupby('Anomaly')\n",
    "fig, ax = plt.subplots(figsize = (20,8))\n",
    "\n",
    "for name, group in groups:\n",
    "    ax.plot(group.index, group.reconstruction_error, marker='+', ms=10, linestyle='',\n",
    "            label= \"Fraud\" if name == 1 else \"Normal\")\n",
    "ax.hlines(threshold, ax.get_xlim()[0], ax.get_xlim()[1], colors=\"r\", zorder=100, label='Threshold')\n",
    "ax.legend()\n",
    "plt.title(\"Reconstruction error for different classes\")\n",
    "plt.ylabel(\"Reconstruction error\")\n",
    "plt.xlabel(\"Data point index\")\n",
    "plt.grid()\n",
    "# plt.show();"
   ]
  },
  {
   "cell_type": "code",
   "execution_count": 93,
   "id": "3247ee91",
   "metadata": {},
   "outputs": [
    {
     "data": {
      "image/png": "[encoded data removed]",
      "text/plain": [
       "<Figure size 432x288 with 1 Axes>"
      ]
     },
     "metadata": {
      "needs_background": "light"
     },
     "output_type": "display_data"
    }
   ],
   "source": [
    "s=1000\n",
    "n=20000\n",
    "plot=sns.lineplot(x=error_df[s:n].Index, y=error_df[s:n].reconstruction_error, hue=error_df[s:n].Anomaly)\n",
    "\n",
    "line = Line2D(xdata=np.arange(0, len(error_df[s:n])),ydata=np.full(len(error_df[s:n]), threshold),color='#CC2B5E',linewidth=1.5,linestyle='dashed')\n",
    "\n",
    "plot.add_artist(line)\n",
    "plt.title('Threshlold: {threshold}'.format(threshold=threshold))\n",
    "plt.show()"
   ]
  },
  {
   "cell_type": "code",
   "execution_count": 94,
   "id": "34ef79d5",
   "metadata": {},
   "outputs": [
    {
     "data": {
      "text/html": [
       "<div>\n",
       "<style scoped>\n",
       "    .dataframe tbody tr th:only-of-type {\n",
       "        vertical-align: middle;\n",
       "    }\n",
       "\n",
       "    .dataframe tbody tr th {\n",
       "        vertical-align: top;\n",
       "    }\n",
       "\n",
       "    .dataframe thead th {\n",
       "        text-align: right;\n",
       "    }\n",
       "</style>\n",
       "<table border=\"1\" class=\"dataframe\">\n",
       "  <thead>\n",
       "    <tr style=\"text-align: right;\">\n",
       "      <th></th>\n",
       "      <th>Predicted Non-Fraud</th>\n",
       "      <th>Predicted Fraud</th>\n",
       "    </tr>\n",
       "  </thead>\n",
       "  <tbody>\n",
       "    <tr>\n",
       "      <th>Actual Non-Fraud</th>\n",
       "      <td>5696</td>\n",
       "      <td>284</td>\n",
       "    </tr>\n",
       "    <tr>\n",
       "      <th>Actual Fraud</th>\n",
       "      <td>4</td>\n",
       "      <td>16</td>\n",
       "    </tr>\n",
       "  </tbody>\n",
       "</table>\n",
       "</div>"
      ],
      "text/plain": [
       "                  Predicted Non-Fraud  Predicted Fraud\n",
       "Actual Non-Fraud                 5696              284\n",
       "Actual Fraud                        4               16"
      ]
     },
     "execution_count": 94,
     "metadata": {},
     "output_type": "execute_result"
    }
   ],
   "source": [
    "LABELS = ['Normal', 'Fraud']\n",
    "y_pred = [1 if e > threshold else 0 for e in error_df.reconstruction_error.values]\n",
    "\n",
    "# Confusion Matrix\n",
    "from sklearn.metrics import confusion_matrix\n",
    "cm = pd.DataFrame(data=confusion_matrix(error_df.Anomaly, y_pred),\n",
    "                  index=[\"Actual Non-Fraud\", \"Actual Fraud\"],\n",
    "                  columns=[\"Predicted Non-Fraud\", \"Predicted Fraud\"])\n",
    "cm"
   ]
  },
  {
   "cell_type": "code",
   "execution_count": 95,
   "id": "47c11edb",
   "metadata": {},
   "outputs": [],
   "source": [
    "au_roc=roc_auc_score(error_df.Anomaly,y_pred)\n",
    "ae_prec,ae_recall,ae_f1_score,ae_mathews=precision_score(error_df.Anomaly,y_pred),recall_score(error_df.Anomaly,y_pred),f1_score(error_df.Anomaly,y_pred),matthews_corrcoef(error_df.Anomaly,y_pred)"
   ]
  },
  {
   "cell_type": "markdown",
   "id": "9c31a936",
   "metadata": {},
   "source": [
    "### Autoencoder"
   ]
  },
  {
   "cell_type": "code",
   "execution_count": 96,
   "id": "261bf985",
   "metadata": {},
   "outputs": [
    {
     "name": "stdout",
     "output_type": "stream",
     "text": [
      "938/938 [==============================] - 2s 2ms/step\n"
     ]
    },
    {
     "name": "stderr",
     "output_type": "stream",
     "text": [
      "C:\\Users\\king_\\AppData\\Local\\Temp\\ipykernel_24060\\410695967.py:13: SettingWithCopyWarning: \n",
      "A value is trying to be set on a copy of a slice from a DataFrame.\n",
      "Try using .loc[row_indexer,col_indexer] = value instead\n",
      "\n",
      "See the caveats in the documentation: https://pandas.pydata.org/pandas-docs/stable/user_guide/indexing.html#returning-a-view-versus-a-copy\n",
      "  df['Anomaly']=y_pred\n"
     ]
    }
   ],
   "source": [
    "scaler = StandardScaler()\n",
    "X=df.drop('is_fraud',axis=1)\n",
    "X=scaler.fit(X).transform(X)\n",
    "y_test=df.is_fraud\n",
    "\n",
    "predictions = autoencoder.predict(X)\n",
    "\n",
    "mse = np.mean(np.power(X - predictions, 2), axis=1)\n",
    "error_df = pd.DataFrame({'reconstruction_error': mse, 'Anomaly':y_test})\n",
    "\n",
    "y_pred = [1 if e > threshold else 0 for e in error_df.reconstruction_error.values]\n",
    "\n",
    "df['Anomaly']=y_pred"
   ]
  },
  {
   "cell_type": "markdown",
   "id": "f6e2b71c",
   "metadata": {},
   "source": [
    "### Auto Encoder and Random Forest"
   ]
  },
  {
   "cell_type": "code",
   "execution_count": 97,
   "id": "9a518a66",
   "metadata": {},
   "outputs": [
    {
     "data": {
      "text/html": [
       "<div>\n",
       "<style scoped>\n",
       "    .dataframe tbody tr th:only-of-type {\n",
       "        vertical-align: middle;\n",
       "    }\n",
       "\n",
       "    .dataframe tbody tr th {\n",
       "        vertical-align: top;\n",
       "    }\n",
       "\n",
       "    .dataframe thead th {\n",
       "        text-align: right;\n",
       "    }\n",
       "</style>\n",
       "<table border=\"1\" class=\"dataframe\">\n",
       "  <thead>\n",
       "    <tr style=\"text-align: right;\">\n",
       "      <th></th>\n",
       "      <th>Predicted Non-Fraud</th>\n",
       "      <th>Predicted Fraud</th>\n",
       "    </tr>\n",
       "  </thead>\n",
       "  <tbody>\n",
       "    <tr>\n",
       "      <th>Actual Non-Fraud</th>\n",
       "      <td>8953</td>\n",
       "      <td>8</td>\n",
       "    </tr>\n",
       "    <tr>\n",
       "      <th>Actual Fraud</th>\n",
       "      <td>12</td>\n",
       "      <td>27</td>\n",
       "    </tr>\n",
       "  </tbody>\n",
       "</table>\n",
       "</div>"
      ],
      "text/plain": [
       "                  Predicted Non-Fraud  Predicted Fraud\n",
       "Actual Non-Fraud                 8953                8\n",
       "Actual Fraud                       12               27"
      ]
     },
     "execution_count": 97,
     "metadata": {},
     "output_type": "execute_result"
    }
   ],
   "source": [
    "X=df.drop('is_fraud',axis=1)\n",
    "X=scaler.fit(X).transform(X)\n",
    "y=df.is_fraud\n",
    "\n",
    "from sklearn.model_selection import train_test_split\n",
    "\n",
    "X_train, X_test, y_train, y_test = train_test_split(X, y, test_size = 0.3, random_state=50)\n",
    "\n",
    "os = SMOTE(random_state=0)\n",
    "X_resample,y_resample=os.fit_resample(X_train,y_train.values.ravel())\n",
    "\n",
    "aurf=RandomForestClassifier()\n",
    "aurf=aurf.fit(X_train,y_train)\n",
    "\n",
    "# Confusion Matrix\n",
    "\n",
    "# Predicting using above model\n",
    "y_pred = aurf.predict(X_test)\n",
    "\n",
    "\n",
    "# Confusion Matrix\n",
    "from sklearn.metrics import confusion_matrix\n",
    "cm = pd.DataFrame(data=confusion_matrix(y_test, y_pred.round(), labels=[0, 1]),\n",
    "                  index=[\"Actual Non-Fraud\", \"Actual Fraud\"],\n",
    "                  columns=[\"Predicted Non-Fraud\", \"Predicted Fraud\"])\n",
    "cm"
   ]
  },
  {
   "cell_type": "code",
   "execution_count": 98,
   "id": "461575e2",
   "metadata": {},
   "outputs": [],
   "source": [
    "probs = [0 for _ in range(len(y_test))]\n",
    "probs=np.array(probs)\n",
    "\n",
    "base_probs=aurf.predict(X_test).round()\n",
    "auc=roc_auc_score(y_test,probs)\n",
    "base_auc=roc_auc_score(y_test,base_probs)\n",
    "probs_fpr,probs_tpr,_=roc_curve(y_test,probs)\n",
    "base_fpr,base_tpr,_=roc_curve(y_test,base_probs)\n",
    "base_prec, base_recall, thresholds = precision_recall_curve(y_test, base_probs)\n",
    "base_auc_pr = metrics.auc(base_recall, base_prec)\n",
    "\n",
    "aerf_prec,aerf_recall,aerf_f1_score,aerf_mathews=precision_score(y_test,y_pred),recall_score(y_test,y_pred),f1_score(y_test,y_pred),matthews_corrcoef(y_test,y_pred)"
   ]
  },
  {
   "cell_type": "markdown",
   "id": "c9a50947",
   "metadata": {},
   "source": [
    "### Random Forest"
   ]
  },
  {
   "cell_type": "code",
   "execution_count": 99,
   "id": "62a0fcf5",
   "metadata": {},
   "outputs": [
    {
     "data": {
      "text/html": [
       "<div>\n",
       "<style scoped>\n",
       "    .dataframe tbody tr th:only-of-type {\n",
       "        vertical-align: middle;\n",
       "    }\n",
       "\n",
       "    .dataframe tbody tr th {\n",
       "        vertical-align: top;\n",
       "    }\n",
       "\n",
       "    .dataframe thead th {\n",
       "        text-align: right;\n",
       "    }\n",
       "</style>\n",
       "<table border=\"1\" class=\"dataframe\">\n",
       "  <thead>\n",
       "    <tr style=\"text-align: right;\">\n",
       "      <th></th>\n",
       "      <th>Predicted Non-Fraud</th>\n",
       "      <th>Predicted Fraud</th>\n",
       "    </tr>\n",
       "  </thead>\n",
       "  <tbody>\n",
       "    <tr>\n",
       "      <th>Actual Non-Fraud</th>\n",
       "      <td>8936</td>\n",
       "      <td>25</td>\n",
       "    </tr>\n",
       "    <tr>\n",
       "      <th>Actual Fraud</th>\n",
       "      <td>9</td>\n",
       "      <td>30</td>\n",
       "    </tr>\n",
       "  </tbody>\n",
       "</table>\n",
       "</div>"
      ],
      "text/plain": [
       "                  Predicted Non-Fraud  Predicted Fraud\n",
       "Actual Non-Fraud                 8936               25\n",
       "Actual Fraud                        9               30"
      ]
     },
     "execution_count": 99,
     "metadata": {},
     "output_type": "execute_result"
    }
   ],
   "source": [
    "X=df.drop(['is_fraud','Anomaly'],axis=1)\n",
    "X=scaler.fit(X).transform(X)\n",
    "y=df.is_fraud\n",
    "\n",
    "X_train, X_test, y_train, y_test = train_test_split(X, y, test_size = 0.3, random_state=50)\n",
    "\n",
    "os = SMOTE(random_state=0)\n",
    "X_train,y_train=os.fit_resample(X_train,y_train.values.ravel())\n",
    "\n",
    "rf=RandomForestClassifier()\n",
    "rf=rf.fit(X_train,y_train)\n",
    "\n",
    "# Predicting using above model\n",
    "y_pred = rf.predict(X_test)\n",
    "\n",
    "\n",
    "# Confusion Matrix\n",
    "from sklearn.metrics import confusion_matrix\n",
    "cm = pd.DataFrame(data=confusion_matrix(y_test, y_pred.round(), labels=[0, 1]),\n",
    "                  index=[\"Actual Non-Fraud\", \"Actual Fraud\"],\n",
    "                  columns=[\"Predicted Non-Fraud\", \"Predicted Fraud\"])\n",
    "cm"
   ]
  },
  {
   "cell_type": "code",
   "execution_count": 100,
   "id": "b3023bb4",
   "metadata": {},
   "outputs": [],
   "source": [
    "rf_prec,rf_recall,rf_f1_score,rf_mathews=precision_score(y_test,y_pred),recall_score(y_test,y_pred),f1_score(y_test,y_pred),matthews_corrcoef(y_test,y_pred)"
   ]
  },
  {
   "cell_type": "markdown",
   "id": "f30fa76c",
   "metadata": {},
   "source": [
    "## Decision Tree"
   ]
  },
  {
   "cell_type": "code",
   "execution_count": 101,
   "id": "f110a88e",
   "metadata": {},
   "outputs": [
    {
     "data": {
      "text/html": [
       "<div>\n",
       "<style scoped>\n",
       "    .dataframe tbody tr th:only-of-type {\n",
       "        vertical-align: middle;\n",
       "    }\n",
       "\n",
       "    .dataframe tbody tr th {\n",
       "        vertical-align: top;\n",
       "    }\n",
       "\n",
       "    .dataframe thead th {\n",
       "        text-align: right;\n",
       "    }\n",
       "</style>\n",
       "<table border=\"1\" class=\"dataframe\">\n",
       "  <thead>\n",
       "    <tr style=\"text-align: right;\">\n",
       "      <th></th>\n",
       "      <th>Predicted Non-Fraud</th>\n",
       "      <th>Predicted Fraud</th>\n",
       "    </tr>\n",
       "  </thead>\n",
       "  <tbody>\n",
       "    <tr>\n",
       "      <th>Actual Non-Fraud</th>\n",
       "      <td>8932</td>\n",
       "      <td>29</td>\n",
       "    </tr>\n",
       "    <tr>\n",
       "      <th>Actual Fraud</th>\n",
       "      <td>10</td>\n",
       "      <td>29</td>\n",
       "    </tr>\n",
       "  </tbody>\n",
       "</table>\n",
       "</div>"
      ],
      "text/plain": [
       "                  Predicted Non-Fraud  Predicted Fraud\n",
       "Actual Non-Fraud                 8932               29\n",
       "Actual Fraud                       10               29"
      ]
     },
     "execution_count": 101,
     "metadata": {},
     "output_type": "execute_result"
    }
   ],
   "source": [
    "X=df.drop(['is_fraud','Anomaly'],axis=1)\n",
    "X=scaler.fit(X).transform(X)\n",
    "y=df.is_fraud\n",
    "\n",
    "X_train, X_test, y_train, y_test = train_test_split(X, y, test_size = 0.3, random_state=50)\n",
    "\n",
    "os = SMOTE(random_state=0)\n",
    "X_train,y_train=os.fit_resample(X_train,y_train.values.ravel())\n",
    "\n",
    "dt=DecisionTreeClassifier()\n",
    "dt=dt.fit(X_train,y_train)\n",
    "\n",
    "# Predicting using above model\n",
    "y_pred = dt.predict(X_test)\n",
    "\n",
    "\n",
    "# Confusion Matrix\n",
    "from sklearn.metrics import confusion_matrix\n",
    "cm = pd.DataFrame(data=confusion_matrix(y_test, y_pred.round(), labels=[0, 1]),\n",
    "                  index=[\"Actual Non-Fraud\", \"Actual Fraud\"],\n",
    "                  columns=[\"Predicted Non-Fraud\", \"Predicted Fraud\"])\n",
    "cm"
   ]
  },
  {
   "cell_type": "code",
   "execution_count": 102,
   "id": "20d0bc40",
   "metadata": {},
   "outputs": [],
   "source": [
    "dt_prec,dt_recall,dt_f1_score,dt_mathews=precision_score(y_test,y_pred),recall_score(y_test,y_pred),f1_score(y_test,y_pred),matthews_corrcoef(y_test,y_pred)"
   ]
  },
  {
   "cell_type": "markdown",
   "id": "06d60f28",
   "metadata": {},
   "source": [
    "## SVM"
   ]
  },
  {
   "cell_type": "code",
   "execution_count": 103,
   "id": "b94f26b6",
   "metadata": {},
   "outputs": [
    {
     "data": {
      "text/html": [
       "<div>\n",
       "<style scoped>\n",
       "    .dataframe tbody tr th:only-of-type {\n",
       "        vertical-align: middle;\n",
       "    }\n",
       "\n",
       "    .dataframe tbody tr th {\n",
       "        vertical-align: top;\n",
       "    }\n",
       "\n",
       "    .dataframe thead th {\n",
       "        text-align: right;\n",
       "    }\n",
       "</style>\n",
       "<table border=\"1\" class=\"dataframe\">\n",
       "  <thead>\n",
       "    <tr style=\"text-align: right;\">\n",
       "      <th></th>\n",
       "      <th>Predicted Non-Fraud</th>\n",
       "      <th>Predicted Fraud</th>\n",
       "    </tr>\n",
       "  </thead>\n",
       "  <tbody>\n",
       "    <tr>\n",
       "      <th>Actual Non-Fraud</th>\n",
       "      <td>8754</td>\n",
       "      <td>207</td>\n",
       "    </tr>\n",
       "    <tr>\n",
       "      <th>Actual Fraud</th>\n",
       "      <td>8</td>\n",
       "      <td>31</td>\n",
       "    </tr>\n",
       "  </tbody>\n",
       "</table>\n",
       "</div>"
      ],
      "text/plain": [
       "                  Predicted Non-Fraud  Predicted Fraud\n",
       "Actual Non-Fraud                 8754              207\n",
       "Actual Fraud                        8               31"
      ]
     },
     "execution_count": 103,
     "metadata": {},
     "output_type": "execute_result"
    }
   ],
   "source": [
    "X=df.drop(['is_fraud','Anomaly'],axis=1)\n",
    "X=scaler.fit(X).transform(X)\n",
    "y=df.is_fraud\n",
    "\n",
    "X_train, X_test, y_train, y_test = train_test_split(X, y, test_size = 0.3, random_state=50)\n",
    "\n",
    "os = SMOTE(random_state=0)\n",
    "X_train,y_train=os.fit_resample(X_train,y_train.values.ravel())\n",
    "\n",
    "svc=SVC()\n",
    "svc=svc.fit(X_train,y_train)\n",
    "\n",
    "# Predicting using above model\n",
    "y_pred = svc.predict(X_test)\n",
    "\n",
    "\n",
    "# Confusion Matrix\n",
    "from sklearn.metrics import confusion_matrix\n",
    "cm = pd.DataFrame(data=confusion_matrix(y_test, y_pred.round(), labels=[0, 1]),\n",
    "                  index=[\"Actual Non-Fraud\", \"Actual Fraud\"],\n",
    "                  columns=[\"Predicted Non-Fraud\", \"Predicted Fraud\"])\n",
    "cm"
   ]
  },
  {
   "cell_type": "code",
   "execution_count": 104,
   "id": "e9f28b57",
   "metadata": {},
   "outputs": [],
   "source": [
    "svc_prec,svc_recall,svc_f1_score,svc_mathews=precision_score(y_test,y_pred),recall_score(y_test,y_pred),f1_score(y_test,y_pred),matthews_corrcoef(y_test,y_pred)"
   ]
  },
  {
   "cell_type": "markdown",
   "id": "0213ef91",
   "metadata": {},
   "source": [
    "## KNN"
   ]
  },
  {
   "cell_type": "code",
   "execution_count": 105,
   "id": "d1db434c",
   "metadata": {},
   "outputs": [
    {
     "data": {
      "text/html": [
       "<div>\n",
       "<style scoped>\n",
       "    .dataframe tbody tr th:only-of-type {\n",
       "        vertical-align: middle;\n",
       "    }\n",
       "\n",
       "    .dataframe tbody tr th {\n",
       "        vertical-align: top;\n",
       "    }\n",
       "\n",
       "    .dataframe thead th {\n",
       "        text-align: right;\n",
       "    }\n",
       "</style>\n",
       "<table border=\"1\" class=\"dataframe\">\n",
       "  <thead>\n",
       "    <tr style=\"text-align: right;\">\n",
       "      <th></th>\n",
       "      <th>Predicted Non-Fraud</th>\n",
       "      <th>Predicted Fraud</th>\n",
       "    </tr>\n",
       "  </thead>\n",
       "  <tbody>\n",
       "    <tr>\n",
       "      <th>Actual Non-Fraud</th>\n",
       "      <td>8909</td>\n",
       "      <td>52</td>\n",
       "    </tr>\n",
       "    <tr>\n",
       "      <th>Actual Fraud</th>\n",
       "      <td>12</td>\n",
       "      <td>27</td>\n",
       "    </tr>\n",
       "  </tbody>\n",
       "</table>\n",
       "</div>"
      ],
      "text/plain": [
       "                  Predicted Non-Fraud  Predicted Fraud\n",
       "Actual Non-Fraud                 8909               52\n",
       "Actual Fraud                       12               27"
      ]
     },
     "execution_count": 105,
     "metadata": {},
     "output_type": "execute_result"
    }
   ],
   "source": [
    "X=df.drop(['is_fraud','Anomaly'],axis=1)\n",
    "X=scaler.fit(X).transform(X)\n",
    "y=df.is_fraud\n",
    "\n",
    "X_train, X_test, y_train, y_test = train_test_split(X, y, test_size = 0.3, random_state=50)\n",
    "\n",
    "os = SMOTE(random_state=0)\n",
    "X_train,y_train=os.fit_resample(X_train,y_train.values.ravel())\n",
    "\n",
    "knn = KNeighborsClassifier(n_neighbors=1)\n",
    "knn=knn.fit(X_train,y_train)\n",
    "\n",
    "# Predicting using above model\n",
    "y_pred = knn.predict(X_test)\n",
    "\n",
    "\n",
    "# Confusion Matrix\n",
    "from sklearn.metrics import confusion_matrix\n",
    "cm = pd.DataFrame(data=confusion_matrix(y_test, y_pred.round(), labels=[0, 1]),\n",
    "                  index=[\"Actual Non-Fraud\", \"Actual Fraud\"],\n",
    "                  columns=[\"Predicted Non-Fraud\", \"Predicted Fraud\"])\n",
    "cm"
   ]
  },
  {
   "cell_type": "code",
   "execution_count": 106,
   "id": "77dc484d",
   "metadata": {},
   "outputs": [],
   "source": [
    "knn_prec,knn_recall,knn_f1_score,knn_mathews=precision_score(y_test,y_pred),recall_score(y_test,y_pred),f1_score(y_test,y_pred),matthews_corrcoef(y_test,y_pred)"
   ]
  },
  {
   "cell_type": "markdown",
   "id": "a3aede9d",
   "metadata": {},
   "source": [
    "### Comparisons"
   ]
  },
  {
   "cell_type": "code",
   "execution_count": 108,
   "id": "fe7b57f6",
   "metadata": {},
   "outputs": [
    {
     "data": {
      "text/html": [
       "<div>\n",
       "<style scoped>\n",
       "    .dataframe tbody tr th:only-of-type {\n",
       "        vertical-align: middle;\n",
       "    }\n",
       "\n",
       "    .dataframe tbody tr th {\n",
       "        vertical-align: top;\n",
       "    }\n",
       "\n",
       "    .dataframe thead th {\n",
       "        text-align: right;\n",
       "    }\n",
       "</style>\n",
       "<table border=\"1\" class=\"dataframe\">\n",
       "  <thead>\n",
       "    <tr style=\"text-align: right;\">\n",
       "      <th></th>\n",
       "      <th>Proposed Model</th>\n",
       "      <th>AutoEncoder</th>\n",
       "      <th>Random_Forest</th>\n",
       "      <th>DecisionTree</th>\n",
       "      <th>SVM</th>\n",
       "      <th>KNN</th>\n",
       "    </tr>\n",
       "  </thead>\n",
       "  <tbody>\n",
       "    <tr>\n",
       "      <th>Precision</th>\n",
       "      <td>77.142857</td>\n",
       "      <td>5.333333</td>\n",
       "      <td>54.545455</td>\n",
       "      <td>50.000000</td>\n",
       "      <td>13.025210</td>\n",
       "      <td>34.177215</td>\n",
       "    </tr>\n",
       "    <tr>\n",
       "      <th>Recall</th>\n",
       "      <td>69.230769</td>\n",
       "      <td>80.000000</td>\n",
       "      <td>76.923077</td>\n",
       "      <td>74.358974</td>\n",
       "      <td>79.487179</td>\n",
       "      <td>69.230769</td>\n",
       "    </tr>\n",
       "    <tr>\n",
       "      <th>F-1 Score</th>\n",
       "      <td>72.972973</td>\n",
       "      <td>0.100000</td>\n",
       "      <td>63.829787</td>\n",
       "      <td>59.793814</td>\n",
       "      <td>22.382671</td>\n",
       "      <td>45.762712</td>\n",
       "    </tr>\n",
       "    <tr>\n",
       "      <th>Mathew Correaltion</th>\n",
       "      <td>72.969291</td>\n",
       "      <td>19.901182</td>\n",
       "      <td>64.597796</td>\n",
       "      <td>60.774073</td>\n",
       "      <td>31.594340</td>\n",
       "      <td>48.343021</td>\n",
       "    </tr>\n",
       "  </tbody>\n",
       "</table>\n",
       "</div>"
      ],
      "text/plain": [
       "                    Proposed Model  AutoEncoder  Random_Forest  DecisionTree  \\\n",
       "Precision                77.142857     5.333333      54.545455     50.000000   \n",
       "Recall                   69.230769    80.000000      76.923077     74.358974   \n",
       "F-1 Score                72.972973     0.100000      63.829787     59.793814   \n",
       "Mathew Correaltion       72.969291    19.901182      64.597796     60.774073   \n",
       "\n",
       "                          SVM        KNN  \n",
       "Precision           13.025210  34.177215  \n",
       "Recall              79.487179  69.230769  \n",
       "F-1 Score           22.382671  45.762712  \n",
       "Mathew Correaltion  31.594340  48.343021  "
      ]
     },
     "execution_count": 108,
     "metadata": {},
     "output_type": "execute_result"
    }
   ],
   "source": [
    "data={'Proposed Model':{'Precision':aerf_prec*100,\n",
    "                       'Recall':aerf_recall*100,\n",
    "                       'F-1 Score':aerf_f1_score*100,\n",
    "                                'Mathew Correaltion':aerf_mathews*100},'AutoEncoder':{'Precision':ae_prec*100,\n",
    "                       'Recall':ae_recall*100,\n",
    "                       'F-1 Score':ae_f1_score,\n",
    "                    'Mathew Correaltion':ae_mathews*100},\n",
    "      'Random_Forest':{'Precision':rf_prec*100,\n",
    "                       'Recall':rf_recall*100,\n",
    "                       'F-1 Score':rf_f1_score*100,\n",
    "                      'Mathew Correaltion':rf_mathews*100},\n",
    "     'DecisionTree':{'Precision':dt_prec*100,\n",
    "                       'Recall':dt_recall*100,\n",
    "                       'F-1 Score':dt_f1_score*100,\n",
    "                      'Mathew Correaltion':dt_mathews*100},\n",
    "     'SVM':{'Precision':svc_prec*100,\n",
    "                       'Recall':svc_recall*100,\n",
    "                       'F-1 Score':svc_f1_score*100,\n",
    "                      'Mathew Correaltion':svc_mathews*100},\n",
    "     'KNN':{'Precision':knn_prec*100,\n",
    "                       'Recall':knn_recall*100,\n",
    "                       'F-1 Score':knn_f1_score*100,\n",
    "                      'Mathew Correaltion':knn_mathews*100}}\n",
    "df=pd.DataFrame(data=data)\n",
    "df.replace(np.nan,0,inplace=True)\n",
    "df"
   ]
  },
  {
   "cell_type": "markdown",
   "id": "66b4ecbf",
   "metadata": {},
   "source": [
    "### References"
   ]
  },
  {
   "cell_type": "markdown",
   "id": "0bd9733d",
   "metadata": {},
   "source": [
    "1) Valkov, V. (2019). Credit Card Fraud Detection using Autoencoders in Keras — TensorFlow for Hackers (Part VII). [online] Medium. Available at: https://medium.com/@curiousily/credit-card-fraud-detection-using-autoencoders-in-keras-tensorflow-for-hackers-part-vii-20e0c85301bd.\n",
    "\n",
    "2) Gökden, B. (2020). Applying Anomaly Detection with Autoencoders to Fraud Detection. [online] Medium. Available at: https://towardsdatascience.com/applying-anomaly-detection-with-autoencoders-to-fraud-detection-feaaee6b5b09 [Accessed 19 Aug. 2022].\n",
    "\n",
    "3) Brownlee, J. (2016). How to Grid Search Hyperparameters for Deep Learning Models in Python With Keras. [online] Machine Learning Mastery. Available at: https://machinelearningmastery.com/grid-search-hyperparameters-deep-learning-models-python-keras/."
   ]
  },
  {
   "cell_type": "code",
   "execution_count": null,
   "id": "e0c8f801",
   "metadata": {},
   "outputs": [],
   "source": []
  }
 ],
 "metadata": {
  "kernelspec": {
   "display_name": "Python 3 (ipykernel)",
   "language": "python",
   "name": "python3"
  },
  "language_info": {
   "codemirror_mode": {
    "name": "ipython",
    "version": 3
   },
   "file_extension": ".py",
   "mimetype": "text/x-python",
   "name": "python",
   "nbconvert_exporter": "python",
   "pygments_lexer": "ipython3",
   "version": "3.9.12"
  }
 },
 "nbformat": 4,
 "nbformat_minor": 5
}
